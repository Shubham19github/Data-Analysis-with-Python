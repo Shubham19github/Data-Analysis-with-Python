{
 "cells": [
  {
   "cell_type": "code",
   "execution_count": null,
   "metadata": {},
   "outputs": [],
   "source": [
    "import pandas as pd"
   ]
  },
  {
   "cell_type": "code",
   "execution_count": null,
   "metadata": {},
   "outputs": [],
   "source": [
    "bond = pd.read_csv(\"data/jamesbond.csv\")\n",
    "bond.head()"
   ]
  },
  {
   "cell_type": "markdown",
   "metadata": {},
   "source": [
    "## .set_index() and .reset_index() methods"
   ]
  },
  {
   "cell_type": "code",
   "execution_count": null,
   "metadata": {},
   "outputs": [],
   "source": [
    "# set series as index\n",
    "bond.set_index(\"Film\", inplace=True)\n",
    "bond.head()"
   ]
  },
  {
   "cell_type": "markdown",
   "metadata": {},
   "source": [
    "### using set_index again, will wipe out current index. So we have to reset current index and then set index"
   ]
  },
  {
   "cell_type": "code",
   "execution_count": null,
   "metadata": {},
   "outputs": [],
   "source": [
    "# resetting index\n",
    "bond.reset_index(inplace=True)"
   ]
  },
  {
   "cell_type": "code",
   "execution_count": null,
   "metadata": {},
   "outputs": [],
   "source": [
    "bond.head()"
   ]
  },
  {
   "cell_type": "markdown",
   "metadata": {},
   "source": [
    "## retrieve rows by index label with .loc[]"
   ]
  },
  {
   "cell_type": "code",
   "execution_count": null,
   "metadata": {},
   "outputs": [],
   "source": [
    "bond = pd.read_csv(\"data/jamesbond.csv\", index_col=\"Film\")\n",
    "bond.sort_index(inplace=True)\n",
    "bond.head()"
   ]
  },
  {
   "cell_type": "code",
   "execution_count": null,
   "metadata": {},
   "outputs": [],
   "source": [
    "bond.loc[\"Goldfinger\"]\n",
    "bond.loc[\"Casino Royale\"]"
   ]
  },
  {
   "cell_type": "code",
   "execution_count": null,
   "metadata": {},
   "outputs": [],
   "source": [
    "# both data are inclusive\n",
    "bond.loc[\"Diamonds Are Forever\": \"Moonraker\"]"
   ]
  },
  {
   "cell_type": "code",
   "execution_count": null,
   "metadata": {},
   "outputs": [],
   "source": [
    "bond.loc[\"GoldenEye\":]"
   ]
  },
  {
   "cell_type": "code",
   "execution_count": null,
   "metadata": {},
   "outputs": [],
   "source": [
    "bond.loc[[\"Octopussy\", \"Moonraker\"]]"
   ]
  },
  {
   "cell_type": "markdown",
   "metadata": {},
   "source": [
    "## retrieve rows by index position with .iloc"
   ]
  },
  {
   "cell_type": "code",
   "execution_count": null,
   "metadata": {},
   "outputs": [],
   "source": [
    "bond = pd.read_csv(\"data/jamesbond.csv\")\n",
    "bond.head()"
   ]
  },
  {
   "cell_type": "code",
   "execution_count": null,
   "metadata": {},
   "outputs": [],
   "source": [
    "bond.iloc[15]"
   ]
  },
  {
   "cell_type": "code",
   "execution_count": null,
   "metadata": {},
   "outputs": [],
   "source": [
    "bond.iloc[[15, 20]]\n",
    "\n",
    "# it does not include 4\n",
    "bond.iloc[:4]"
   ]
  },
  {
   "cell_type": "code",
   "execution_count": null,
   "metadata": {},
   "outputs": [],
   "source": [
    "bond = pd.read_csv(\"data/jamesbond.csv\", index_col=\"Film\")\n",
    "bond.sort_index(inplace=True)\n",
    "bond.head()"
   ]
  },
  {
   "cell_type": "code",
   "execution_count": null,
   "metadata": {},
   "outputs": [],
   "source": [
    "bond.iloc[0]"
   ]
  },
  {
   "cell_type": "markdown",
   "metadata": {},
   "source": [
    "## .ix[] Method"
   ]
  },
  {
   "cell_type": "code",
   "execution_count": null,
   "metadata": {},
   "outputs": [],
   "source": [
    "# combines loc and iloc. can filter based on both label or index\n",
    "# But it is deprecated now\n",
    "\n",
    "bond = pd.read_csv(\"data/jamesbond.csv\", index_col=\"Film\")\n",
    "bond.sort_index(inplace=True)\n",
    "bond.head()"
   ]
  },
  {
   "cell_type": "code",
   "execution_count": null,
   "metadata": {},
   "outputs": [],
   "source": [
    "bond.ix[\"GoldenEye\"]"
   ]
  },
  {
   "cell_type": "code",
   "execution_count": null,
   "metadata": {},
   "outputs": [],
   "source": [
    "bond.ix[0:5]"
   ]
  },
  {
   "cell_type": "markdown",
   "metadata": {},
   "source": [
    "## second parameter to loc, iloc and ix methods"
   ]
  },
  {
   "cell_type": "code",
   "execution_count": null,
   "metadata": {},
   "outputs": [],
   "source": [
    "bond = pd.read_csv(\"data/jamesbond.csv\", index_col=\"Film\")\n",
    "bond.sort_index(inplace=True)\n",
    "bond.head()"
   ]
  },
  {
   "cell_type": "code",
   "execution_count": null,
   "metadata": {},
   "outputs": [],
   "source": [
    "# takes column names as 2nd param\n",
    "bond.loc[\"Moonraker\", \"Actor\"]"
   ]
  },
  {
   "cell_type": "code",
   "execution_count": null,
   "metadata": {},
   "outputs": [],
   "source": [
    "bond.loc[\"Moonraker\", [\"Actor\", \"Year\"]]"
   ]
  },
  {
   "cell_type": "code",
   "execution_count": null,
   "metadata": {},
   "outputs": [],
   "source": [
    "# iloc takes param as integer\n",
    "bond.iloc[14, 2]"
   ]
  },
  {
   "cell_type": "code",
   "execution_count": null,
   "metadata": {},
   "outputs": [],
   "source": [
    "bond.iloc[14, 2:4]"
   ]
  },
  {
   "cell_type": "code",
   "execution_count": null,
   "metadata": {},
   "outputs": [],
   "source": [
    "# ix allows us to mix and match\n",
    "bond.ix[20, \"Budget\"]"
   ]
  },
  {
   "cell_type": "code",
   "execution_count": null,
   "metadata": {},
   "outputs": [],
   "source": [
    "bond.ix[\"Moonraker\", :4]"
   ]
  },
  {
   "cell_type": "markdown",
   "metadata": {},
   "source": [
    "## Set new values for a specific cell or Row"
   ]
  },
  {
   "cell_type": "code",
   "execution_count": null,
   "metadata": {},
   "outputs": [],
   "source": [
    "bond = pd.read_csv(\"data/jamesbond.csv\", index_col=\"Film\")\n",
    "bond.sort_index(inplace=True)\n",
    "bond.head()"
   ]
  },
  {
   "cell_type": "code",
   "execution_count": null,
   "metadata": {},
   "outputs": [],
   "source": [
    "bond.loc[\"Dr. No\", \"Actor\"] = 'Johny Deep'\n",
    "bond.loc['Dr. No']"
   ]
  },
  {
   "cell_type": "code",
   "execution_count": null,
   "metadata": {},
   "outputs": [],
   "source": [
    "bond.loc[\"Dr. No\", [\"Box Office\", \"Budget\"]] = [448000, 7000]\n",
    "bond.loc[\"Dr. No\"]"
   ]
  },
  {
   "cell_type": "markdown",
   "metadata": {},
   "source": [
    "## Set multiple values in DataFrame"
   ]
  },
  {
   "cell_type": "code",
   "execution_count": null,
   "metadata": {},
   "outputs": [],
   "source": [
    "bond = pd.read_csv(\"data/jamesbond.csv\", index_col=\"Film\")\n",
    "bond.sort_index(inplace=True)\n",
    "bond.head()"
   ]
  },
  {
   "cell_type": "code",
   "execution_count": null,
   "metadata": {},
   "outputs": [],
   "source": [
    "name_mask = bond[\"Actor\"] == \"Sean Connery\"\n",
    "bond.loc[name_mask, \"Actor\"] = \"Robert Downey Jr.\"\n",
    "bond"
   ]
  },
  {
   "cell_type": "markdown",
   "metadata": {},
   "source": [
    "## Renaming Index Labels or Columns in DataFrame"
   ]
  },
  {
   "cell_type": "code",
   "execution_count": null,
   "metadata": {},
   "outputs": [],
   "source": [
    "bond = pd.read_csv(\"data/jamesbond.csv\", index_col=\"Film\")\n",
    "bond.sort_index(inplace=True)\n",
    "bond.head()"
   ]
  },
  {
   "cell_type": "code",
   "execution_count": null,
   "metadata": {},
   "outputs": [],
   "source": [
    "# rename method\n",
    "bond.rename(columns= {\"Year\": \"Release Date\", \"Box Office\": \"Revenue\"}, inplace = True)\n",
    "bond.head(2)"
   ]
  },
  {
   "cell_type": "code",
   "execution_count": null,
   "metadata": {},
   "outputs": [],
   "source": [
    "# change index name\n",
    "bond.rename(index={\"Dr. No\": \"Doctor No\", \"GoldenEye\": \"Golden Eye\"}, inplace=True)\n",
    "bond.loc[\"Doctor No\"]"
   ]
  },
  {
   "cell_type": "code",
   "execution_count": null,
   "metadata": {},
   "outputs": [],
   "source": [
    "# assign a list with columns name\n",
    "bond.columns = [\"Year of Release\", \"Actor\", \"Director\", \"Gross\", \"Cost\", \"Salary\"]\n",
    "bond.head()"
   ]
  },
  {
   "cell_type": "markdown",
   "metadata": {},
   "source": [
    "## Delete Rows or Columns from DataFrame"
   ]
  },
  {
   "cell_type": "code",
   "execution_count": null,
   "metadata": {},
   "outputs": [],
   "source": [
    "bond = pd.read_csv(\"data/jamesbond.csv\", index_col=\"Film\")\n",
    "bond.sort_index(inplace=True)\n",
    "bond.head()"
   ]
  },
  {
   "cell_type": "code",
   "execution_count": null,
   "metadata": {},
   "outputs": [],
   "source": [
    "# drop method\n",
    "\n",
    "# by index label\n",
    "bond.drop([\"A View to a Kill\", \"Die Another Day\", \"Casino Royale\"])"
   ]
  },
  {
   "cell_type": "code",
   "execution_count": null,
   "metadata": {},
   "outputs": [],
   "source": [
    "# remove columns, using axis=1\n",
    "bond.drop(\"Box Office\", axis=1)\n",
    "bond.drop([\"Box Office\", \"Actor\"], axis=1)"
   ]
  },
  {
   "cell_type": "code",
   "execution_count": null,
   "metadata": {},
   "outputs": [],
   "source": [
    "# pop method, it returns deleted series and is permanent. We don't need inplace parameter\n",
    "\n",
    "actor = bond.pop(\"Actor\")\n",
    "actor"
   ]
  },
  {
   "cell_type": "code",
   "execution_count": null,
   "metadata": {},
   "outputs": [],
   "source": [
    "# we can use python 'del' keyword\n",
    "del bond['Director']\n",
    "bond"
   ]
  },
  {
   "cell_type": "markdown",
   "metadata": {},
   "source": [
    "## Creating random sample with .sample() method"
   ]
  },
  {
   "cell_type": "code",
   "execution_count": null,
   "metadata": {},
   "outputs": [],
   "source": [
    "bond = pd.read_csv(\"data/jamesbond.csv\", index_col=\"Film\")\n",
    "bond.sort_index(inplace=True)\n",
    "bond.head()"
   ]
  },
  {
   "cell_type": "code",
   "execution_count": null,
   "metadata": {},
   "outputs": [],
   "source": [
    "# returns random row\n",
    "bond.sample()\n",
    "\n",
    "# specify no. of rows\n",
    "bond.sample(5)\n",
    "\n",
    "# retruns fraction of dataFrame\n",
    "bond.sample(frac=0.25)"
   ]
  },
  {
   "cell_type": "code",
   "execution_count": null,
   "metadata": {},
   "outputs": [],
   "source": [
    "# returns random columns\n",
    "bond.sample(n=3, axis=1)"
   ]
  },
  {
   "cell_type": "markdown",
   "metadata": {},
   "source": [
    "## .nsmallest() and .nlargest() methods"
   ]
  },
  {
   "cell_type": "code",
   "execution_count": null,
   "metadata": {},
   "outputs": [],
   "source": [
    "bond = pd.read_csv(\"data/jamesbond.csv\", index_col=\"Film\")\n",
    "bond.sort_index(inplace=True)\n",
    "bond.head()"
   ]
  },
  {
   "cell_type": "code",
   "execution_count": null,
   "metadata": {},
   "outputs": [],
   "source": [
    "# no. of largest\n",
    "# internally it sorts values on Box Office and then returns top 3\n",
    "bond.nlargest(3, columns=\"Box Office\")"
   ]
  },
  {
   "cell_type": "code",
   "execution_count": null,
   "metadata": {},
   "outputs": [],
   "source": [
    "# no.of smallest\n",
    "bond.nsmallest(2, columns=\"Box Office\")"
   ]
  },
  {
   "cell_type": "code",
   "execution_count": null,
   "metadata": {},
   "outputs": [],
   "source": [
    "bond.nlargest(3, columns=\"Budget\")\n",
    "bond.nsmallest(5, columns=\"Bond Actor Salary\")"
   ]
  },
  {
   "cell_type": "code",
   "execution_count": null,
   "metadata": {},
   "outputs": [],
   "source": [
    "# using on Series\n",
    "bond[\"Box Office\"].nlargest(3)"
   ]
  },
  {
   "cell_type": "code",
   "execution_count": null,
   "metadata": {},
   "outputs": [],
   "source": [
    "bond[\"Year\"].nsmallest(4)"
   ]
  },
  {
   "cell_type": "markdown",
   "metadata": {},
   "source": [
    "## Filtering with .where() method"
   ]
  },
  {
   "cell_type": "code",
   "execution_count": null,
   "metadata": {},
   "outputs": [],
   "source": [
    "bond = pd.read_csv(\"data/jamesbond.csv\", index_col=\"Film\")\n",
    "bond.sort_index(inplace=True)\n",
    "bond.head()"
   ]
  },
  {
   "cell_type": "code",
   "execution_count": null,
   "metadata": {},
   "outputs": [],
   "source": [
    "# it returns all DataFrame, with values not filtered as Null\n",
    "\n",
    "actor_mask = bond[\"Actor\"] == 'Sean Connery'\n",
    "# bond[actor_mask]\n",
    "\n",
    "bond.where(actor_mask)"
   ]
  },
  {
   "cell_type": "code",
   "execution_count": null,
   "metadata": {},
   "outputs": [],
   "source": [
    "bo_mask = bond[\"Box Office\"] > 800\n",
    "bond.where(bo_mask)"
   ]
  },
  {
   "cell_type": "code",
   "execution_count": null,
   "metadata": {},
   "outputs": [],
   "source": [
    "bond.where(actor_mask & bo_mask)\n",
    "bond.where(actor_mask | bo_mask)"
   ]
  },
  {
   "cell_type": "markdown",
   "metadata": {},
   "source": [
    "## .query() method"
   ]
  },
  {
   "cell_type": "code",
   "execution_count": null,
   "metadata": {},
   "outputs": [],
   "source": [
    "bond = pd.read_csv(\"data/jamesbond.csv\", index_col=\"Film\")\n",
    "bond.sort_index(inplace=True)\n",
    "bond.head()"
   ]
  },
  {
   "cell_type": "code",
   "execution_count": null,
   "metadata": {},
   "outputs": [],
   "source": [
    "# it does not work with column name having space\n",
    "bond.columns = [column_name .replace(\" \", \"_\") for column_name in bond.columns]\n",
    "bond.head(2)"
   ]
  },
  {
   "cell_type": "code",
   "execution_count": null,
   "metadata": {},
   "outputs": [],
   "source": [
    "bond.query('Actor == \"Sean Connery\"')\n",
    "bond.query(\"Director == 'Terence Young'\")\n",
    "bond.query('Actor != \"Roger Moore\"')\n",
    "bond.query(\"Box_Office > 600\")\n",
    "bond.query(\"Actor == 'Roger Moore' and Director == 'John Glen'\")\n",
    "bond.query(\"Actor in ['Timothy Dalton', 'Sean Connery']\")"
   ]
  },
  {
   "cell_type": "markdown",
   "metadata": {},
   "source": [
    "## .apply() method with Row values"
   ]
  },
  {
   "cell_type": "code",
   "execution_count": null,
   "metadata": {},
   "outputs": [],
   "source": [
    "bond = pd.read_csv(\"data/jamesbond.csv\", index_col=\"Film\")\n",
    "bond.sort_index(inplace=True)\n",
    "bond.head()"
   ]
  },
  {
   "cell_type": "code",
   "execution_count": null,
   "metadata": {},
   "outputs": [],
   "source": [
    "def good_movie(row):\n",
    "    actor = row[1]\n",
    "    budget = row[4]\n",
    "    \n",
    "    if actor == 'Pierce Brosnan':\n",
    "        return \"The best\"\n",
    "    elif actor == 'Roger Moore' and budget > 40:\n",
    "        return \"Enjoyable\"\n",
    "    else:\n",
    "        return \"No clue\""
   ]
  },
  {
   "cell_type": "code",
   "execution_count": null,
   "metadata": {},
   "outputs": [],
   "source": [
    "# returns a series\n",
    "bond[\"my_review\"] = bond.apply(good_movie, axis=\"columns\")\n",
    "bond"
   ]
  },
  {
   "cell_type": "markdown",
   "metadata": {},
   "source": [
    "## .copy() method"
   ]
  },
  {
   "cell_type": "code",
   "execution_count": null,
   "metadata": {},
   "outputs": [],
   "source": [
    "directors = bond[\"Director\"]\n",
    "directors.head(2)"
   ]
  },
  {
   "cell_type": "code",
   "execution_count": null,
   "metadata": {},
   "outputs": [],
   "source": [
    "# But it will affect original DataFrame\n",
    "directors[\"A View to a Kill\"] = \"Mr. John Glen\"\n",
    "directors.head()\n",
    "bond.head()"
   ]
  },
  {
   "cell_type": "code",
   "execution_count": null,
   "metadata": {},
   "outputs": [],
   "source": [
    "bond = pd.read_csv(\"data/jamesbond.csv\", index_col=\"Film\")\n",
    "bond.sort_index(inplace=True)\n",
    "bond.head()"
   ]
  },
  {
   "cell_type": "code",
   "execution_count": null,
   "metadata": {},
   "outputs": [],
   "source": [
    "directors = bond[\"Director\"].copy()\n",
    "directors.head(2)"
   ]
  },
  {
   "cell_type": "code",
   "execution_count": null,
   "metadata": {},
   "outputs": [],
   "source": [
    "# It will not affect original DataFrame\n",
    "directors[\"A View to a Kill\"] = \"Mr. John Glen\"\n",
    "directors.head()\n",
    "# bond.head()"
   ]
  },
  {
   "cell_type": "code",
   "execution_count": null,
   "metadata": {},
   "outputs": [],
   "source": []
  }
 ],
 "metadata": {
  "kernelspec": {
   "display_name": "Python 3",
   "language": "python",
   "name": "python3"
  },
  "language_info": {
   "codemirror_mode": {
    "name": "ipython",
    "version": 3
   },
   "file_extension": ".py",
   "mimetype": "text/x-python",
   "name": "python",
   "nbconvert_exporter": "python",
   "pygments_lexer": "ipython3",
   "version": "3.7.3"
  }
 },
 "nbformat": 4,
 "nbformat_minor": 2
}
