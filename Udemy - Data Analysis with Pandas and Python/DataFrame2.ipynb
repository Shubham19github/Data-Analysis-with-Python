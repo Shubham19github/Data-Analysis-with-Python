{
 "cells": [
  {
   "cell_type": "code",
   "execution_count": null,
   "metadata": {},
   "outputs": [],
   "source": [
    "import pandas as pd"
   ]
  },
  {
   "cell_type": "code",
   "execution_count": null,
   "metadata": {},
   "outputs": [],
   "source": [
    "emp = pd.read_csv(\"data/employees.csv\")\n",
    "emp[\"Start Date\"] = pd.to_datetime(emp[\"Start Date\"])\n",
    "emp[\"Last Login Time\"] = pd.to_datetime(emp[\"Last Login Time\"])\n",
    "\n",
    "# or we can use shortcuts - pd.read_csv(\"data/employees.csv\", parse_dates = [\"Start Date\", \"Last Login Time\"])\n",
    "\n",
    "emp[\"Senior Manangement\"] = emp[\"Senior Management\"].astype(\"bool\")\n",
    "emp[\"Gender\"] = emp[\"Gender\"].astype(\"category\")\n",
    "emp.head(3)"
   ]
  },
  {
   "cell_type": "code",
   "execution_count": null,
   "metadata": {},
   "outputs": [],
   "source": [
    "emp.info()"
   ]
  },
  {
   "cell_type": "markdown",
   "metadata": {},
   "source": [
    "## filtering DataFrame based on Condition"
   ]
  },
  {
   "cell_type": "code",
   "execution_count": null,
   "metadata": {},
   "outputs": [],
   "source": [
    "emp[emp[\"Gender\"] == \"Male\"]"
   ]
  },
  {
   "cell_type": "code",
   "execution_count": null,
   "metadata": {},
   "outputs": [],
   "source": [
    "emp[emp[\"Team\"] == \"Finance\"]"
   ]
  },
  {
   "cell_type": "code",
   "execution_count": null,
   "metadata": {},
   "outputs": [],
   "source": [
    "emp[emp[\"Senior Manangement\"]]"
   ]
  },
  {
   "cell_type": "code",
   "execution_count": null,
   "metadata": {},
   "outputs": [],
   "source": [
    "mask = emp[\"Team\"] != \"Marketing\"\n",
    "emp[mask]"
   ]
  },
  {
   "cell_type": "code",
   "execution_count": null,
   "metadata": {},
   "outputs": [],
   "source": [
    "mask = emp[\"Salary\"] > 110000\n",
    "emp[mask]"
   ]
  },
  {
   "cell_type": "code",
   "execution_count": null,
   "metadata": {},
   "outputs": [],
   "source": [
    "start_date_mask = emp[\"Start Date\"] <= \"1985-01-01\"\n",
    "emp[start_date_mask]"
   ]
  },
  {
   "cell_type": "markdown",
   "metadata": {},
   "source": [
    "## filter with more than one condition"
   ]
  },
  {
   "cell_type": "code",
   "execution_count": null,
   "metadata": {},
   "outputs": [],
   "source": [
    "gender_mask = emp[\"Gender\"] == \"Male\"\n",
    "team_mask = emp[\"Team\"] == \"Marketing\"\n",
    "\n",
    "emp[gender_mask & team_mask]"
   ]
  },
  {
   "cell_type": "code",
   "execution_count": null,
   "metadata": {},
   "outputs": [],
   "source": [
    "senMg_mask = emp[\"Senior Manangement\"]\n",
    "date_mask = emp[\"Start Date\"] < \"1990-01-01\"\n",
    "\n",
    "emp[senMg_mask | date_mask]"
   ]
  },
  {
   "cell_type": "code",
   "execution_count": null,
   "metadata": {},
   "outputs": [],
   "source": [
    "name_mask = emp[\"First Name\"] == \"Robert\"\n",
    "team_mask = emp[\"Team\"] == \"Client Services\"\n",
    "date_mask = emp[\"Start Date\"] > \"2016-06-01\"\n",
    "\n",
    "emp[(name_mask & team_mask) | date_mask]"
   ]
  },
  {
   "cell_type": "markdown",
   "metadata": {},
   "source": [
    "## .isin() method"
   ]
  },
  {
   "cell_type": "code",
   "execution_count": null,
   "metadata": {},
   "outputs": [],
   "source": [
    "# check for multiple values in condition\n",
    "team_mask = emp[\"Team\"].isin([\"Legal\", \"Sales\", \"Product\"])\n",
    "emp[team_mask]"
   ]
  },
  {
   "cell_type": "markdown",
   "metadata": {},
   "source": [
    "## .isnull() and .notnull() methods"
   ]
  },
  {
   "cell_type": "code",
   "execution_count": null,
   "metadata": {},
   "outputs": [],
   "source": [
    "emp[emp[\"Team\"].isnull()]"
   ]
  },
  {
   "cell_type": "code",
   "execution_count": null,
   "metadata": {},
   "outputs": [],
   "source": [
    "emp[emp[\"Gender\"].notnull()]"
   ]
  },
  {
   "cell_type": "markdown",
   "metadata": {},
   "source": [
    "## .between() method"
   ]
  },
  {
   "cell_type": "code",
   "execution_count": null,
   "metadata": {},
   "outputs": [],
   "source": [
    "# checks for range\n",
    "emp[emp[\"Salary\"].between(60000, 70000)]"
   ]
  },
  {
   "cell_type": "code",
   "execution_count": null,
   "metadata": {},
   "outputs": [],
   "source": [
    "emp[emp[\"Bonus %\"].between(2.0, 5.0)]"
   ]
  },
  {
   "cell_type": "code",
   "execution_count": null,
   "metadata": {},
   "outputs": [],
   "source": [
    "emp[emp[\"Start Date\"].between(\"1991-01-01\", \"1992-01-01\")]"
   ]
  },
  {
   "cell_type": "markdown",
   "metadata": {},
   "source": [
    "## .duplicated() method"
   ]
  },
  {
   "cell_type": "code",
   "execution_count": null,
   "metadata": {},
   "outputs": [],
   "source": [
    "emp.sort_values(\"First Name\", inplace=True)\n",
    "emp.head()"
   ]
  },
  {
   "cell_type": "code",
   "execution_count": null,
   "metadata": {},
   "outputs": [],
   "source": [
    "# 'keep' defines position value to keep. keep='first' is default\n",
    "# keep = False marks duplicated if something appears more than once\n",
    "\n",
    "emp[~emp[\"First Name\"].duplicated(keep=False)]"
   ]
  },
  {
   "cell_type": "markdown",
   "metadata": {},
   "source": [
    "## .drop_duplicates() method"
   ]
  },
  {
   "cell_type": "code",
   "execution_count": null,
   "metadata": {},
   "outputs": [],
   "source": [
    "# it allows to work on DataFrame\n",
    "# by default, remove rows which are similar across entire columns\n",
    "\n",
    "# we can specify column name\n",
    "emp.drop_duplicates(subset=[\"First Name\"], keep=False)"
   ]
  },
  {
   "cell_type": "markdown",
   "metadata": {},
   "source": [
    "## .unique() and nunique() methods"
   ]
  },
  {
   "cell_type": "code",
   "execution_count": null,
   "metadata": {},
   "outputs": [],
   "source": [
    "emp[\"Gender\"].unique()"
   ]
  },
  {
   "cell_type": "code",
   "execution_count": null,
   "metadata": {},
   "outputs": [],
   "source": [
    "print(\"No. of unique elements in Team : \", len(emp[\"Team\"].unique()))"
   ]
  },
  {
   "cell_type": "code",
   "execution_count": null,
   "metadata": {},
   "outputs": [],
   "source": [
    "# nunique - returns no. of unique values\n",
    "emp[\"Team\"].nunique()\n",
    "\n",
    "# by default, it has dropna = True\n",
    "emp[\"Team\"].nunique(dropna=False)"
   ]
  },
  {
   "cell_type": "code",
   "execution_count": null,
   "metadata": {},
   "outputs": [],
   "source": []
  }
 ],
 "metadata": {
  "kernelspec": {
   "display_name": "Python 3",
   "language": "python",
   "name": "python3"
  },
  "language_info": {
   "codemirror_mode": {
    "name": "ipython",
    "version": 3
   },
   "file_extension": ".py",
   "mimetype": "text/x-python",
   "name": "python",
   "nbconvert_exporter": "python",
   "pygments_lexer": "ipython3",
   "version": "3.7.3"
  }
 },
 "nbformat": 4,
 "nbformat_minor": 2
}
